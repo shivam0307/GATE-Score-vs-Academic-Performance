{
 "cells": [
  {
   "cell_type": "markdown",
   "id": "6d184295",
   "metadata": {},
   "source": [
    "# GATE Score v/s Academic Performance Example:"
   ]
  },
  {
   "cell_type": "code",
   "execution_count": 1,
   "id": "692af4b8",
   "metadata": {},
   "outputs": [],
   "source": [
    "import numpy as np"
   ]
  },
  {
   "cell_type": "code",
   "execution_count": 2,
   "id": "95d20956",
   "metadata": {},
   "outputs": [],
   "source": [
    "import matplotlib.pyplot as plt"
   ]
  },
  {
   "cell_type": "code",
   "execution_count": 3,
   "id": "39cb5c2f",
   "metadata": {},
   "outputs": [],
   "source": [
    "x = np.array([95,85,80,70,60]) # Gate Scores\n",
    "y = np.array([85,95,70,65,70]) # Academic Precentages"
   ]
  },
  {
   "cell_type": "code",
   "execution_count": 15,
   "id": "aebde5a7",
   "metadata": {},
   "outputs": [
    {
     "name": "stdout",
     "output_type": "stream",
     "text": [
      "X_mean:  78.0\n",
      "Y_mean:  77.0\n",
      "intercept:  0.6438356164383562\n",
      "slope:  26.78082191780822\n",
      "[87.94520548 81.50684932 78.28767123 71.84931507 65.4109589 ]\n"
     ]
    },
    {
     "data": {
      "text/plain": [
       "[<matplotlib.lines.Line2D at 0x20cd9addf90>]"
      ]
     },
     "execution_count": 15,
     "metadata": {},
     "output_type": "execute_result"
    },
    {
     "data": {
      "image/png": "[encoded data removed]",
      "text/plain": [
       "<Figure size 432x288 with 1 Axes>"
      ]
     },
     "metadata": {
      "needs_background": "light"
     },
     "output_type": "display_data"
    }
   ],
   "source": [
    "n = np.size(x)\n",
    "m_x , m_y = np.mean(x) , np.mean(y)     #mean of x and y\n",
    "\n",
    "print(\"X_mean: \",m_x)\n",
    "print(\"Y_mean: \",m_y)\n",
    "\n",
    "ss_xy = np.sum(y*x)-n*(m_x)*(m_y)    #numerator\n",
    "ss_xx = np.sum(x*x)-n*(m_x)*(m_x)    #denominator\n",
    "\n",
    "b0_1 = ss_xy / ss_xx                 #intercept\n",
    "b0_0 = m_y - b0_1*m_x                #slope\n",
    "\n",
    "print(\"intercept: \",b0_1)\n",
    "print(\"slope: \",b0_0)\n",
    "\n",
    "y_pred = b0_0 + b0_1*x\n",
    "\n",
    "print(y_pred)\n",
    "\n",
    "plt.scatter(x,y)\n",
    "plt.plot(x,y_pred, color='k', marker='o')"
   ]
  },
  {
   "cell_type": "code",
   "execution_count": 5,
   "id": "7720cae7",
   "metadata": {},
   "outputs": [
    {
     "name": "stdout",
     "output_type": "stream",
     "text": [
      "Standard Deviations:  60.41522986797286 , 56.124860801609124\n",
      "Covariance:  2350\n",
      "Correlation Coefficient:  0.6930525298193004\n"
     ]
    }
   ],
   "source": [
    "import math\n",
    "\n",
    "sigma_x = math.sqrt(n*np.sum(x*x)-np.sum(x)*np.sum(x))\n",
    "sigma_y = math.sqrt(n*np.sum(y*y)-np.sum(y)*np.sum(y))\n",
    "\n",
    "print(\"Standard Deviations: \", sigma_x, \",\", sigma_y)\n",
    "\n",
    "cov_xy = n*np.sum(x*y)-(np.sum(x)*np.sum(y))\n",
    "\n",
    "print(\"Covariance: \",cov_xy)\n",
    "\n",
    "r = cov_xy/(sigma_x*sigma_y)         #using statistical formula for correlation coefficient\n",
    "\n",
    "print(\"Correlation Coefficient: \", r)"
   ]
  },
  {
   "cell_type": "code",
   "execution_count": 7,
   "id": "64a35077",
   "metadata": {},
   "outputs": [
    {
     "data": {
      "text/plain": [
       "[<matplotlib.lines.Line2D at 0x20cd18245b0>]"
      ]
     },
     "execution_count": 7,
     "metadata": {},
     "output_type": "execute_result"
    },
    {
     "data": {
      "image/png": "[encoded data removed]",
      "text/plain": [
       "<Figure size 432x288 with 1 Axes>"
      ]
     },
     "metadata": {
      "needs_background": "light"
     },
     "output_type": "display_data"
    }
   ],
   "source": [
    "plt.scatter(x,y)\n",
    "plt.plot(x,y_pred)"
   ]
  },
  {
   "cell_type": "code",
   "execution_count": 8,
   "id": "7232773b",
   "metadata": {},
   "outputs": [],
   "source": [
    "sse = np.sum((y-y_pred)*(y-y_pred))"
   ]
  },
  {
   "cell_type": "code",
   "execution_count": 9,
   "id": "adde308b",
   "metadata": {},
   "outputs": [],
   "source": [
    "sst = np.sum((y-m_y)*(y-m_y))"
   ]
  },
  {
   "cell_type": "code",
   "execution_count": 10,
   "id": "8e66c7fc",
   "metadata": {},
   "outputs": [
    {
     "name": "stdout",
     "output_type": "stream",
     "text": [
      "Coefficient of Determination:  0.4803218090889325\n"
     ]
    }
   ],
   "source": [
    "R2 = 1-(sse/sst)\n",
    "print(\"Coefficient of Determination: \", R2)"
   ]
  },
  {
   "cell_type": "code",
   "execution_count": 11,
   "id": "732498ff",
   "metadata": {},
   "outputs": [],
   "source": [
    "from sklearn.metrics import r2_score\n",
    "r2 = r2_score(y,y_pred)"
   ]
  },
  {
   "cell_type": "code",
   "execution_count": 12,
   "id": "2da03ad4",
   "metadata": {},
   "outputs": [
    {
     "name": "stdout",
     "output_type": "stream",
     "text": [
      "0.4803218090889325\n"
     ]
    }
   ],
   "source": [
    "print(r2)"
   ]
  },
  {
   "cell_type": "code",
   "execution_count": 13,
   "id": "dfb1249a",
   "metadata": {},
   "outputs": [
    {
     "name": "stdout",
     "output_type": "stream",
     "text": [
      "0.4803218090889323\n"
     ]
    }
   ],
   "source": [
    "print(r*r) #alternate method to find r2 using value of r"
   ]
  },
  {
   "cell_type": "code",
   "execution_count": 16,
   "id": "2088e345",
   "metadata": {},
   "outputs": [
    {
     "name": "stdout",
     "output_type": "stream",
     "text": [
      "Coefficient of Determination:  0.4803218090889325\n"
     ]
    }
   ],
   "source": [
    "#Finding Coefficient of Determination by Statistical Formula for Coefficient of Determination\n",
    "sse = np.sum((y-y_pred)*(y-y_pred))\n",
    "sst = np.sum((y-m_y)*(y-m_y))\n",
    "R2 = 1-(sse/sst)\n",
    "print(\"Coefficient of Determination: \", R2)"
   ]
  },
  {
   "cell_type": "code",
   "execution_count": null,
   "id": "2fb4907b",
   "metadata": {},
   "outputs": [],
   "source": []
  }
 ],
 "metadata": {
  "kernelspec": {
   "display_name": "Python 3 (ipykernel)",
   "language": "python",
   "name": "python3"
  },
  "language_info": {
   "codemirror_mode": {
    "name": "ipython",
    "version": 3
   },
   "file_extension": ".py",
   "mimetype": "text/x-python",
   "name": "python",
   "nbconvert_exporter": "python",
   "pygments_lexer": "ipython3",
   "version": "3.10.4"
  }
 },
 "nbformat": 4,
 "nbformat_minor": 5
}
